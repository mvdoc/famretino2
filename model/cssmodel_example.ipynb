{
 "cells": [
  {
   "cell_type": "markdown",
   "metadata": {},
   "source": [
    "In this notebook I'm comparing my implementation with that shared by the author, Kendrick Kay, available at his website: [http://kendrickkay.net/socmodel/](http://kendrickkay.net/socmodel/).\n",
    "\n",
    "In particular, I'll be referring to this page: [http://kendrickkay.net/socmodel/html/cssmodel_example.html](http://kendrickkay.net/socmodel/html/cssmodel_example.html)"
   ]
  },
  {
   "cell_type": "code",
   "execution_count": 1,
   "metadata": {
    "ExecuteTime": {
     "end_time": "2018-04-18T10:07:42.419913Z",
     "start_time": "2018-04-18T10:07:40.999788Z"
    },
    "collapsed": true
   },
   "outputs": [],
   "source": [
    "%matplotlib inline\n",
    "import matplotlib.pyplot as plt\n",
    "from cssmodel.model import *"
   ]
  },
  {
   "cell_type": "markdown",
   "metadata": {},
   "source": [
    "These are the parameters of an example voxel that was fitted using real data:"
   ]
  },
  {
   "cell_type": "code",
   "execution_count": 2,
   "metadata": {
    "ExecuteTime": {
     "end_time": "2018-04-18T10:07:44.006160Z",
     "start_time": "2018-04-18T10:07:43.999510Z"
    },
    "collapsed": true
   },
   "outputs": [],
   "source": [
    "kay_examples_params = [\n",
    "    62.0031314121038,  # row\n",
    "    70.3915456636858,  # col\n",
    "    2.73865321049464,  # sigma\n",
    "    6.41562465044818,  # gain\n",
    "    0.428524030231163  # n\n",
    "]\n",
    "kep = kay_examples_params  # shortcut"
   ]
  },
  {
   "cell_type": "markdown",
   "metadata": {},
   "source": [
    "Visualize the parameter estimates"
   ]
  },
  {
   "cell_type": "code",
   "execution_count": 3,
   "metadata": {
    "ExecuteTime": {
     "end_time": "2018-04-18T10:07:46.158346Z",
     "start_time": "2018-04-18T10:07:45.763523Z"
    }
   },
   "outputs": [
    {
     "data": {
      "image/png": "[encoded data removed]",
      "text/plain": [
       "<matplotlib.figure.Figure at 0x108980c10>"
      ]
     },
     "metadata": {},
     "output_type": "display_data"
    }
   ],
   "source": [
    "fig, ax = plt.subplots(1, 1, figsize=(4, 4))\n",
    "plot_prfs([kep[1] - 50], [kep[0] - 50], [kep[2]], n=kep[4], ax=ax);\n",
    "ax.set_title('Estimated PRF location and size')\n",
    "ax.set_xticks(np.arange(0, 101, 10));\n",
    "ax.set_yticks(np.arange(0, 101, 10));"
   ]
  },
  {
   "cell_type": "markdown",
   "metadata": {},
   "source": [
    "Visualize the response profile by summing activations to a point stimulus across the visual field"
   ]
  },
  {
   "cell_type": "code",
   "execution_count": 4,
   "metadata": {
    "ExecuteTime": {
     "end_time": "2018-04-18T10:07:50.002897Z",
     "start_time": "2018-04-18T10:07:47.668536Z"
    }
   },
   "outputs": [
    {
     "data": {
      "image/png": "[encoded data removed]",
      "text/plain": [
       "<matplotlib.figure.Figure at 0x1089800d0>"
      ]
     },
     "metadata": {},
     "output_type": "display_data"
    }
   ],
   "source": [
    "resp = np.zeros((100, 100))\n",
    "for r in range(100):\n",
    "    for c in range(100):\n",
    "        stim = np.zeros((100, 100))\n",
    "        stim[r, c] = 1.\n",
    "        resp[r, c] = activation(stim, kep[1], kep[0], kep[2], gain=kep[3], n=kep[4])\n",
    "        \n",
    "fig, ax = plt.subplots(1, 1, figsize=(4, 4))\n",
    "ax.imshow(resp, cmap='gray');\n",
    "ax.set_title('Predicted response to point stimuli')\n",
    "ax.set_xticks(np.arange(0, 101, 10));\n",
    "ax.set_yticks(np.arange(0, 101, 10));"
   ]
  },
  {
   "cell_type": "markdown",
   "metadata": {},
   "source": [
    "We can also use this example to investigate how changing $n$ changes the response profile"
   ]
  },
  {
   "cell_type": "code",
   "execution_count": 6,
   "metadata": {
    "ExecuteTime": {
     "end_time": "2018-04-18T10:08:30.329051Z",
     "start_time": "2018-04-18T10:08:19.911553Z"
    }
   },
   "outputs": [
    {
     "data": {
      "image/png": "[encoded data removed]",
      "text/plain": [
       "<matplotlib.figure.Figure at 0x108ae3e10>"
      ]
     },
     "metadata": {},
     "output_type": "display_data"
    }
   ],
   "source": [
    "ns = [0.1, 0.2, 0.3, 0.4, 1.]\n",
    "\n",
    "fig, axs = plt.subplots(1, len(ns), figsize=(12, 4))\n",
    "\n",
    "for n, ax in zip(ns, axs):\n",
    "    resp = np.zeros((100, 100))\n",
    "    for r in range(100):\n",
    "        for c in range(100):\n",
    "            stim = np.zeros((100, 100))\n",
    "            stim[r, c] = 1.\n",
    "            resp[r, c] = activation(stim, kep[1], kep[0], kep[2], gain=kep[3], n=n)\n",
    "    ax.imshow(resp, cmap='gray');\n",
    "    ax.set_title('n = {0:.1f}'.format(n))\n",
    "    ax.set_xticks([]);\n",
    "    ax.set_yticks([]);"
   ]
  }
 ],
 "metadata": {
  "anaconda-cloud": {},
  "kernelspec": {
   "display_name": "Python [default]",
   "language": "python",
   "name": "python2"
  },
  "language_info": {
   "codemirror_mode": {
    "name": "ipython",
    "version": 2
   },
   "file_extension": ".py",
   "mimetype": "text/x-python",
   "name": "python",
   "nbconvert_exporter": "python",
   "pygments_lexer": "ipython2",
   "version": "2.7.13"
  },
  "toc": {
   "colors": {
    "hover_highlight": "#DAA520",
    "navigate_num": "#000000",
    "navigate_text": "#333333",
    "running_highlight": "#FF0000",
    "selected_highlight": "#FFD700",
    "sidebar_border": "#EEEEEE",
    "wrapper_background": "#FFFFFF"
   },
   "moveMenuLeft": true,
   "nav_menu": {
    "height": "12px",
    "width": "252px"
   },
   "navigate_menu": true,
   "number_sections": true,
   "sideBar": true,
   "threshold": 4,
   "toc_cell": false,
   "toc_section_display": "block",
   "toc_window_display": false,
   "widenNotebook": false
  }
 },
 "nbformat": 4,
 "nbformat_minor": 2
}
