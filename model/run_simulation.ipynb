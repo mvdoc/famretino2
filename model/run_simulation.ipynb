{
 "cells": [
  {
   "cell_type": "code",
   "execution_count": 1,
   "metadata": {
    "ExecuteTime": {
     "end_time": "2018-04-10T14:25:17.913175Z",
     "start_time": "2018-04-10T14:25:17.889634Z"
    }
   },
   "outputs": [
    {
     "name": "stderr",
     "output_type": "stream",
     "text": [
      "/opt/conda/envs/neuro27/lib/python2.7/site-packages/statsmodels/compat/pandas.py:56: FutureWarning: The pandas.core.datetools module is deprecated and will be removed in a future version. Please use the pandas.tseries module instead.\n",
      "  from pandas.core import datetools\n"
     ]
    }
   ],
   "source": [
    "from cssmodel.simulation import *\n",
    "import os.path as op\n",
    "%matplotlib inline\n",
    "import seaborn as sns\n",
    "from joblib.parallel import Parallel, delayed\n",
    "import seaborn as sns\n",
    "from sklearn.utils.extmath import cartesian\n",
    "sns.set_style('white')"
   ]
  },
  {
   "cell_type": "code",
   "execution_count": 2,
   "metadata": {
    "ExecuteTime": {
     "end_time": "2018-04-10T11:33:22.926225Z",
     "start_time": "2018-04-10T11:33:22.880046Z"
    }
   },
   "outputs": [],
   "source": [
    "def _get_cov(sigma_ecc, sigma_size, roi, n=0.2):\n",
    "    \"\"\"\n",
    "    Given sigma for eccentricity and size, get a covariance matrix by estimating\n",
    "    the covariance from the slopes of the lines in Figure S2 from Kay et al., 2015.\n",
    "    \n",
    "    Parameters\n",
    "    ----------\n",
    "    sigma_ecc : float\n",
    "        standard deviation for eccentricity\n",
    "    sigma_size : float\n",
    "        standard deviation for pRF size\n",
    "    roi : str\n",
    "        one of ['IOG', 'pFus', 'mFus']\n",
    "    n : float\n",
    "        power exponent\n",
    "    \n",
    "    Returns\n",
    "    -------\n",
    "    cov : array (2, 2)\n",
    "        covariance between eccentricity and pRF size\n",
    "    \"\"\"\n",
    "    cov = np.eye(2) * np.array([sigma_ecc ** 2, sigma_size ** 2])\n",
    "    \n",
    "    # let's try an approximation of the covariance based on figure S2\n",
    "    fn = op.join('inputs', roi.lower() + '-slope.csv')\n",
    "    slope = pd.read_csv(fn, header=None)\n",
    "    slope.columns = ['eccentricity', 'size']\n",
    "    # re-normalize size -- size in the paper is defined as sigma/sqrt(n)\n",
    "    slope['size'] *= np.sqrt(n)\n",
    "    \n",
    "    # get what should be the first eigenvector\n",
    "    e1 = slope.diff().as_matrix()[1]\n",
    "    # norm it\n",
    "    e1 /= np.sqrt(np.sum(e1**2))\n",
    "    # this is the rotation matrix\n",
    "    R = np.matrix([\n",
    "     [e1[0], -e1[1]],\n",
    "     [e1[1], e1[0]]\n",
    "    ])\n",
    "    # this is the rotated covariance matrix\n",
    "    C = R*np.matrix(cov)*(R**-1)\n",
    "    # impose the same variance as the original one\n",
    "    C[0, 0] = cov[0, 0]\n",
    "    C[1, 1] = cov[1, 1]\n",
    "\n",
    "    return C"
   ]
  },
  {
   "cell_type": "code",
   "execution_count": 3,
   "metadata": {
    "ExecuteTime": {
     "end_time": "2018-04-10T11:33:22.960047Z",
     "start_time": "2018-04-10T11:33:22.930425Z"
    }
   },
   "outputs": [],
   "source": [
    "def get_mu_sigma_cov(roi, n=0.2):\n",
    "    \"\"\"\n",
    "    Get the means for eccentricity, size, and their covariance based on the Figures in Kay et al., 2015\n",
    "    \n",
    "    Because we cannot reliably estimate the standard deviation from those figure, we assume an SD of 0.5 degrees\n",
    "    \"\"\"\n",
    "    ecc_fn = op.join('inputs', 'kay2015_eccentricity.csv')\n",
    "    size_fn = op.join('inputs', 'kay2015_size.csv')\n",
    "    ecc_df = pd.read_csv(ecc_fn, header=None)\n",
    "    ecc_df.columns = ['roi', 'eccentricity']\n",
    "    size_df = pd.read_csv(size_fn, header=None)\n",
    "    size_df.columns = ['roi', 'size']\n",
    "\n",
    "    ecc_roi = ecc_df[[roi in c for c in ecc_df.roi]]\n",
    "    size_roi = size_df[[roi in c for c in size_df.roi]]\n",
    "    # the CIs in the figure represent 68% CIs of the median, approximately it is two standard deviations\n",
    "    mu_ecc = ecc_roi['eccentricity'].iloc[0]\n",
    "    sigma_ecc = 0.5\n",
    "    # these are already normalized by sqrt(n); revert back to pixel size\n",
    "    mu_size = size_roi['size'].iloc[0] * np.sqrt(n)\n",
    "    sigma_size = 0.5 * np.sqrt(n)\n",
    "\n",
    "    cov = _get_cov(sigma_ecc, sigma_size, roi, n=n)\n",
    "    \n",
    "    return mu_ecc, mu_size, cov"
   ]
  },
  {
   "cell_type": "code",
   "execution_count": 4,
   "metadata": {
    "ExecuteTime": {
     "end_time": "2018-04-10T14:03:28.293155Z",
     "start_time": "2018-04-10T14:03:28.278536Z"
    }
   },
   "outputs": [],
   "source": [
    "# make stimuli\n",
    "stimuli = make_stimuli()"
   ]
  },
  {
   "cell_type": "code",
   "execution_count": 5,
   "metadata": {
    "ExecuteTime": {
     "end_time": "2018-04-10T11:33:23.133283Z",
     "start_time": "2018-04-10T11:33:22.965482Z"
    }
   },
   "outputs": [],
   "source": [
    "rois = ['IOG', 'mFus', 'pFus']\n",
    "roi_values = {\n",
    "    r: get_mu_sigma_cov(r) for r in rois\n",
    "}"
   ]
  },
  {
   "cell_type": "code",
   "execution_count": 6,
   "metadata": {},
   "outputs": [
    {
     "data": {
      "text/plain": [
       "{'IOG': (2.052173913043478,\n",
       "  1.2278986003611563,\n",
       "  matrix([[0.25      , 0.05461094],\n",
       "          [0.05461094, 0.05      ]])),\n",
       " 'mFus': (1.860869565217392,\n",
       "  1.5225942644478336,\n",
       "  matrix([[0.25      , 0.07677099],\n",
       "          [0.07677099, 0.05      ]])),\n",
       " 'pFus': (2.4521739130434783,\n",
       "  1.6466766493264344,\n",
       "  matrix([[0.25      , 0.05411797],\n",
       "          [0.05411797, 0.05      ]]))}"
      ]
     },
     "execution_count": 6,
     "metadata": {},
     "output_type": "execute_result"
    }
   ],
   "source": [
    "roi_values"
   ]
  },
  {
   "cell_type": "code",
   "execution_count": 7,
   "metadata": {
    "ExecuteTime": {
     "end_time": "2018-04-10T11:46:45.811027Z",
     "start_time": "2018-04-10T11:46:45.805622Z"
    }
   },
   "outputs": [],
   "source": [
    "def compute_varpse(pses, avg=0.5):\n",
    "    return np.sum((pses - avg)**2, axis=1)"
   ]
  },
  {
   "cell_type": "markdown",
   "metadata": {},
   "source": [
    "# First simulation -- keep the same number of units, change the ratio of those responsive to one or the other identity"
   ]
  },
  {
   "cell_type": "code",
   "execution_count": 8,
   "metadata": {
    "ExecuteTime": {
     "end_time": "2018-04-10T14:11:16.769511Z",
     "start_time": "2018-04-10T14:11:16.762407Z"
    }
   },
   "outputs": [
    {
     "name": "stdout",
     "output_type": "stream",
     "text": [
      "[1.         1.5        2.33333333 4.         9.        ]\n"
     ]
    }
   ],
   "source": [
    "n_voxels = 10\n",
    "ratios = get_possible_ratios(n_voxels)[::-1]\n",
    "print(ratios)"
   ]
  },
  {
   "cell_type": "code",
   "execution_count": 9,
   "metadata": {
    "ExecuteTime": {
     "end_time": "2018-04-10T14:11:20.191895Z",
     "start_time": "2018-04-10T14:11:20.187411Z"
    }
   },
   "outputs": [],
   "source": [
    "comb_search = cartesian([rois, ratios])"
   ]
  },
  {
   "cell_type": "code",
   "execution_count": 10,
   "metadata": {
    "ExecuteTime": {
     "end_time": "2018-04-10T14:11:21.013364Z",
     "start_time": "2018-04-10T14:11:21.007941Z"
    }
   },
   "outputs": [],
   "source": [
    "n_exps = len(comb_search)\n",
    "# create different master seeds for reproducibility\n",
    "rng = np.random.RandomState(245)\n",
    "master_seeds = [rng.randint(2**32) for _ in range(n_exps)]"
   ]
  },
  {
   "cell_type": "code",
   "execution_count": 13,
   "metadata": {
    "ExecuteTime": {
     "end_time": "2018-04-10T14:16:40.066029Z",
     "start_time": "2018-04-10T14:11:51.815723Z"
    }
   },
   "outputs": [
    {
     "name": "stdout",
     "output_type": "stream",
     "text": [
      "[Parallel(n_jobs=15)]: Done   1 tasks      | elapsed:    1.9s\n",
      "[Parallel(n_jobs=15)]: Done   2 out of  15 | elapsed:    2.0s remaining:   12.7s\n",
      "[Parallel(n_jobs=15)]: Done   3 out of  15 | elapsed:    2.0s remaining:    7.9s\n",
      "[Parallel(n_jobs=15)]: Done   4 out of  15 | elapsed:    2.0s remaining:    5.4s\n",
      "[Parallel(n_jobs=15)]: Done   5 out of  15 | elapsed:    2.0s remaining:    4.0s\n",
      "[Parallel(n_jobs=15)]: Done   6 out of  15 | elapsed:    2.0s remaining:    3.0s\n",
      "[Parallel(n_jobs=15)]: Done   7 out of  15 | elapsed:    2.0s remaining:    2.3s\n",
      "[Parallel(n_jobs=15)]: Done   8 out of  15 | elapsed:    2.0s remaining:    1.8s\n",
      "[Parallel(n_jobs=15)]: Done   9 out of  15 | elapsed:    2.0s remaining:    1.4s\n",
      "[Parallel(n_jobs=15)]: Done  10 out of  15 | elapsed:    2.0s remaining:    1.0s\n",
      "[Parallel(n_jobs=15)]: Done  11 out of  15 | elapsed:    2.1s remaining:    0.7s\n",
      "[Parallel(n_jobs=15)]: Done  12 out of  15 | elapsed:    2.1s remaining:    0.5s\n",
      "[Parallel(n_jobs=15)]: Done  13 out of  15 | elapsed:    2.1s remaining:    0.3s\n",
      "[Parallel(n_jobs=15)]: Done  15 out of  15 | elapsed:    2.1s remaining:    0.0s\n",
      "[Parallel(n_jobs=15)]: Done  15 out of  15 | elapsed:    2.1s finished\n"
     ]
    }
   ],
   "source": [
    "out = Parallel(n_jobs=15, verbose=50)(\n",
    "    delayed(simulate_bunch_experiments)\n",
    "    (*roi_values[r], stimuli=stimuli, ratio_voxels=float(ratio), n_voxels=n_voxels, master_seed=seed, sigma_noise=0.1) \n",
    "    for (r, ratio), seed in zip(comb_search, master_seeds)\n",
    "    )"
   ]
  },
  {
   "cell_type": "code",
   "execution_count": 14,
   "metadata": {
    "ExecuteTime": {
     "end_time": "2018-04-10T14:17:43.708108Z",
     "start_time": "2018-04-10T14:17:43.684833Z"
    }
   },
   "outputs": [],
   "source": [
    "dfs, pses, ts = zip(*out)\n",
    "varpses = [compute_varpse(p) for p in pses]"
   ]
  },
  {
   "cell_type": "code",
   "execution_count": 15,
   "metadata": {
    "ExecuteTime": {
     "end_time": "2018-04-10T14:17:44.321354Z",
     "start_time": "2018-04-10T14:17:44.282245Z"
    }
   },
   "outputs": [],
   "source": [
    "df_varp = pd.DataFrame(varpses)\n",
    "df_varp.index = pd.MultiIndex.from_tuples([roi_ratio for roi_ratio in comb_search], names=['roi', 'ratio'])\n",
    "df_varp = df_varp.T\n",
    "df_varp = pd.melt(df_varp)"
   ]
  },
  {
   "cell_type": "code",
   "execution_count": 16,
   "metadata": {
    "ExecuteTime": {
     "end_time": "2018-04-10T14:23:37.173914Z",
     "start_time": "2018-04-10T14:23:37.151032Z"
    }
   },
   "outputs": [],
   "source": [
    "df_varp.to_csv(op.join('outputs', 'sim_10vox_rois.csv'))"
   ]
  },
  {
   "cell_type": "code",
   "execution_count": 17,
   "metadata": {
    "ExecuteTime": {
     "end_time": "2018-04-10T14:17:46.923107Z",
     "start_time": "2018-04-10T14:17:45.559636Z"
    }
   },
   "outputs": [
    {
     "data": {
      "text/plain": [
       "Text(0.5,0,u'Ratio of units selective to identity a')"
      ]
     },
     "execution_count": 17,
     "metadata": {},
     "output_type": "execute_result"
    },
    {
     "data": {
      "image/png": "[encoded data removed]",
      "text/plain": [
       "<matplotlib.figure.Figure at 0x2b756de78150>"
      ]
     },
     "metadata": {},
     "output_type": "display_data"
    }
   ],
   "source": [
    "fig, ax = plt.subplots(1, 1)\n",
    "sns.pointplot(x='ratio', y='value', hue='roi', \n",
    "              data=df_varp, \n",
    "              order=df_varp.ratio.unique(), ci=68, estimator=np.median, ax=ax)\n",
    "sns.despine()\n",
    "ax.set_ylabel('Simulated PSE variance')\n",
    "ax.set_xlabel('Ratio of units selective to identity a')"
   ]
  },
  {
   "cell_type": "markdown",
   "metadata": {},
   "source": [
    "# Second simulation,  growing number of units"
   ]
  },
  {
   "cell_type": "code",
   "execution_count": 18,
   "metadata": {
    "ExecuteTime": {
     "end_time": "2018-04-10T14:18:11.058554Z",
     "start_time": "2018-04-10T14:18:11.052133Z"
    }
   },
   "outputs": [],
   "source": [
    "# now let's try with a growing number of voxels\n",
    "ratios = np.arange(1, 10)\n",
    "n_voxels = 1 + ratios"
   ]
  },
  {
   "cell_type": "code",
   "execution_count": 19,
   "metadata": {
    "ExecuteTime": {
     "end_time": "2018-04-10T14:18:29.054847Z",
     "start_time": "2018-04-10T14:18:29.050535Z"
    }
   },
   "outputs": [],
   "source": [
    "comb_search = [(r, ratio, nvx) for r in rois for (ratio, nvx) in zip(ratios, n_voxels)]"
   ]
  },
  {
   "cell_type": "code",
   "execution_count": 20,
   "metadata": {},
   "outputs": [
    {
     "data": {
      "text/plain": [
       "[('IOG', 1, 2),\n",
       " ('IOG', 2, 3),\n",
       " ('IOG', 3, 4),\n",
       " ('IOG', 4, 5),\n",
       " ('IOG', 5, 6),\n",
       " ('IOG', 6, 7),\n",
       " ('IOG', 7, 8),\n",
       " ('IOG', 8, 9),\n",
       " ('IOG', 9, 10),\n",
       " ('mFus', 1, 2)]"
      ]
     },
     "execution_count": 20,
     "metadata": {},
     "output_type": "execute_result"
    }
   ],
   "source": [
    "comb_search[:10]"
   ]
  },
  {
   "cell_type": "code",
   "execution_count": 21,
   "metadata": {
    "ExecuteTime": {
     "end_time": "2018-04-10T14:18:55.217071Z",
     "start_time": "2018-04-10T14:18:55.211036Z"
    }
   },
   "outputs": [],
   "source": [
    "n_exps = len(comb_search)\n",
    "# create different master seeds for reproducibility\n",
    "rng = np.random.RandomState(245)\n",
    "master_seeds = [rng.randint(2**32) for _ in range(n_exps)]"
   ]
  },
  {
   "cell_type": "code",
   "execution_count": 22,
   "metadata": {
    "ExecuteTime": {
     "end_time": "2018-04-10T14:23:28.077644Z",
     "start_time": "2018-04-10T14:19:04.925295Z"
    }
   },
   "outputs": [
    {
     "name": "stderr",
     "output_type": "stream",
     "text": [
      "[Parallel(n_jobs=15)]: Done   4 out of  27 | elapsed:    1.7s remaining:    9.6s\n",
      "[Parallel(n_jobs=15)]: Done  10 out of  27 | elapsed:    1.8s remaining:    3.0s\n",
      "[Parallel(n_jobs=15)]: Done  16 out of  27 | elapsed:    3.2s remaining:    2.2s\n",
      "[Parallel(n_jobs=15)]: Done  22 out of  27 | elapsed:    3.6s remaining:    0.8s\n",
      "[Parallel(n_jobs=15)]: Done  27 out of  27 | elapsed:    3.8s finished\n"
     ]
    }
   ],
   "source": [
    "out2 = Parallel(n_jobs=15, verbose=5)(\n",
    "    delayed(\n",
    "        simulate_bunch_experiments)(*roi_values[r], stimuli=stimuli, ratio_voxels=ratio, \n",
    "                                    n_voxels=nvx, sigma_noise=0.1) \n",
    "    for r in rois for (ratio, nvx) in zip(ratios, n_voxels))"
   ]
  },
  {
   "cell_type": "code",
   "execution_count": 23,
   "metadata": {
    "ExecuteTime": {
     "end_time": "2018-04-10T14:23:43.454377Z",
     "start_time": "2018-04-10T14:23:43.448739Z"
    }
   },
   "outputs": [],
   "source": [
    "dfs, pses, ts = zip(*out2)\n",
    "varpses = [compute_varpse(p) for p in pses]"
   ]
  },
  {
   "cell_type": "code",
   "execution_count": 24,
   "metadata": {
    "ExecuteTime": {
     "end_time": "2018-04-10T14:23:48.060249Z",
     "start_time": "2018-04-10T14:23:48.030637Z"
    }
   },
   "outputs": [],
   "source": [
    "df_varp = pd.DataFrame(varpses)\n",
    "df_varp.index = pd.MultiIndex.from_tuples(\n",
    "    [(ratio, r) for r in rois for (ratio, nvx) in zip(ratios, n_voxels)], names=['ratio', 'roi'])\n",
    "# df_varp.index = pd.MultiIndex.from_tuples(combs.tolist(), names=['eccentricity', 'size', 'ratio'])\n",
    "df_varp = df_varp.T\n",
    "df_varp = pd.melt(df_varp)"
   ]
  },
  {
   "cell_type": "code",
   "execution_count": 25,
   "metadata": {
    "ExecuteTime": {
     "end_time": "2018-04-10T14:23:50.810486Z",
     "start_time": "2018-04-10T14:23:48.929912Z"
    }
   },
   "outputs": [
    {
     "data": {
      "text/plain": [
       "<matplotlib.axes._subplots.AxesSubplot at 0x2b74eb2c8b10>"
      ]
     },
     "execution_count": 25,
     "metadata": {},
     "output_type": "execute_result"
    },
    {
     "data": {
      "image/png": "[encoded data removed]",
      "text/plain": [
       "<matplotlib.figure.Figure at 0x2b756d657fd0>"
      ]
     },
     "metadata": {},
     "output_type": "display_data"
    }
   ],
   "source": [
    "sns.pointplot(x='ratio', y='value', hue='roi', \n",
    "              data=df_varp, \n",
    "              order=df_varp.ratio.unique(), ci=68, estimator=np.median)"
   ]
  },
  {
   "cell_type": "code",
   "execution_count": 26,
   "metadata": {
    "ExecuteTime": {
     "end_time": "2018-04-10T14:24:16.009693Z",
     "start_time": "2018-04-10T14:24:15.997063Z"
    }
   },
   "outputs": [],
   "source": [
    "df_varp.to_csv(op.join('outputs', 'sim_varvox_rois.csv'))"
   ]
  },
  {
   "cell_type": "markdown",
   "metadata": {},
   "source": [
    "# Third simulation, let's also modify the ratio of gains"
   ]
  },
  {
   "cell_type": "code",
   "execution_count": 27,
   "metadata": {
    "ExecuteTime": {
     "end_time": "2018-04-10T14:18:11.058554Z",
     "start_time": "2018-04-10T14:18:11.052133Z"
    }
   },
   "outputs": [],
   "source": [
    "# now let's try with a growing number of voxels\n",
    "ratios = np.arange(1, 10)\n",
    "n_voxels = 1 + ratios"
   ]
  },
  {
   "cell_type": "code",
   "execution_count": 28,
   "metadata": {
    "ExecuteTime": {
     "end_time": "2018-04-10T14:18:29.054847Z",
     "start_time": "2018-04-10T14:18:29.050535Z"
    }
   },
   "outputs": [],
   "source": [
    "ratio_nvox = [(r, ratio, nvx) for r in rois for (ratio, nvx) in zip(ratios, n_voxels)]"
   ]
  },
  {
   "cell_type": "code",
   "execution_count": 29,
   "metadata": {
    "scrolled": true
   },
   "outputs": [
    {
     "data": {
      "text/plain": [
       "array([1. , 1.5, 2. , 2.5, 3. , 3.5, 4. ])"
      ]
     },
     "execution_count": 29,
     "metadata": {},
     "output_type": "execute_result"
    }
   ],
   "source": [
    "gains = np.arange(1, 4.25, 0.5)\n",
    "gains"
   ]
  },
  {
   "cell_type": "code",
   "execution_count": 30,
   "metadata": {},
   "outputs": [],
   "source": [
    "comb_search = [(r, ratio, nvx, g) for g in gains for (r, ratio, nvx) in ratio_nvox]"
   ]
  },
  {
   "cell_type": "code",
   "execution_count": 31,
   "metadata": {},
   "outputs": [
    {
     "data": {
      "text/plain": [
       "[('IOG', 1, 2, 1.0),\n",
       " ('IOG', 2, 3, 1.0),\n",
       " ('IOG', 3, 4, 1.0),\n",
       " ('IOG', 4, 5, 1.0),\n",
       " ('IOG', 5, 6, 1.0),\n",
       " ('IOG', 6, 7, 1.0),\n",
       " ('IOG', 7, 8, 1.0),\n",
       " ('IOG', 8, 9, 1.0),\n",
       " ('IOG', 9, 10, 1.0),\n",
       " ('mFus', 1, 2, 1.0)]"
      ]
     },
     "execution_count": 31,
     "metadata": {},
     "output_type": "execute_result"
    }
   ],
   "source": [
    "comb_search[:10]"
   ]
  },
  {
   "cell_type": "code",
   "execution_count": 32,
   "metadata": {
    "ExecuteTime": {
     "end_time": "2018-04-10T14:18:55.217071Z",
     "start_time": "2018-04-10T14:18:55.211036Z"
    }
   },
   "outputs": [],
   "source": [
    "n_exps = len(comb_search)\n",
    "# create different master seeds for reproducibility\n",
    "rng = np.random.RandomState(98698)\n",
    "master_seeds = [rng.randint(2**32) for _ in range(n_exps)]"
   ]
  },
  {
   "cell_type": "code",
   "execution_count": 33,
   "metadata": {
    "ExecuteTime": {
     "end_time": "2018-04-10T14:23:28.077644Z",
     "start_time": "2018-04-10T14:19:04.925295Z"
    },
    "scrolled": true
   },
   "outputs": [
    {
     "name": "stderr",
     "output_type": "stream",
     "text": [
      "[Parallel(n_jobs=15)]: Done  42 tasks      | elapsed:   27.7s\n",
      "[Parallel(n_jobs=15)]: Done 132 tasks      | elapsed:  1.5min\n"
     ]
    },
    {
     "name": "stdout",
     "output_type": "stream",
     "text": [
      "WARNING: got PerfectSeparationError, filling pses with 0.5\n"
     ]
    },
    {
     "name": "stderr",
     "output_type": "stream",
     "text": [
      "[Parallel(n_jobs=15)]: Done 189 out of 189 | elapsed:  2.3min finished\n"
     ]
    }
   ],
   "source": [
    "out3 = Parallel(n_jobs=15, verbose=5)(\n",
    "    delayed(\n",
    "        simulate_bunch_experiments)\n",
    "    (*roi_values[r], stimuli=stimuli, ratio_voxels=ratio, n_sim=500,\n",
    "     sigma_noise=0.1, ratio_gain=g, n_voxels=nvx, master_seed=seed) \n",
    "    for (r, ratio, nvx, g), seed in zip(comb_search, master_seeds))"
   ]
  },
  {
   "cell_type": "code",
   "execution_count": 34,
   "metadata": {
    "ExecuteTime": {
     "end_time": "2018-04-10T14:23:43.454377Z",
     "start_time": "2018-04-10T14:23:43.448739Z"
    }
   },
   "outputs": [],
   "source": [
    "dfs, pses, ts = zip(*out3)\n",
    "varpses = [compute_varpse(p) for p in pses]"
   ]
  },
  {
   "cell_type": "code",
   "execution_count": 35,
   "metadata": {},
   "outputs": [],
   "source": [
    "index_df = [(c[0], c[1], c[3]) for c in comb_search]\n",
    "df_varp = pd.DataFrame(varpses)\n",
    "df_varp.index = pd.MultiIndex.from_tuples(index_df, names=['roi', 'ratio', 'gain'])\n",
    "# df_varp.index = pd.MultiIndex.from_tuples(combs.tolist(), names=['eccentricity', 'size', 'ratio'])\n",
    "df_varp = df_varp.T\n",
    "df_varp = pd.melt(df_varp)"
   ]
  },
  {
   "cell_type": "code",
   "execution_count": 36,
   "metadata": {},
   "outputs": [],
   "source": [
    "d = df_varp[df_varp.roi == 'IOG']\n",
    "#d = df_varp[df_varp.gain == 1.0]"
   ]
  },
  {
   "cell_type": "code",
   "execution_count": 37,
   "metadata": {
    "ExecuteTime": {
     "end_time": "2018-04-10T14:23:50.810486Z",
     "start_time": "2018-04-10T14:23:48.929912Z"
    },
    "scrolled": true
   },
   "outputs": [
    {
     "data": {
      "text/plain": [
       "<matplotlib.axes._subplots.AxesSubplot at 0x2b74eb6be950>"
      ]
     },
     "execution_count": 37,
     "metadata": {},
     "output_type": "execute_result"
    },
    {
     "data": {
      "image/png": "[encoded data removed]",
      "text/plain": [
       "<matplotlib.figure.Figure at 0x2b74eb366650>"
      ]
     },
     "metadata": {},
     "output_type": "display_data"
    }
   ],
   "source": [
    "sns.pointplot(x='ratio', y='value', hue='gain', \n",
    "              data=d, \n",
    "              order=d.ratio.unique(), ci=False, estimator=np.median)"
   ]
  },
  {
   "cell_type": "code",
   "execution_count": 38,
   "metadata": {},
   "outputs": [],
   "source": [
    "df_varp.to_csv(op.join('outputs', 'sim_varvox_7gain_rois.csv'))"
   ]
  },
  {
   "cell_type": "markdown",
   "metadata": {},
   "source": [
    "# Plot example of PRFs covering more and more of the visual field"
   ]
  },
  {
   "cell_type": "code",
   "execution_count": 39,
   "metadata": {
    "ExecuteTime": {
     "end_time": "2018-04-10T14:25:02.911817Z",
     "start_time": "2018-04-10T14:25:02.883058Z"
    }
   },
   "outputs": [],
   "source": [
    "def plot_prfdensity(xs, ys, sigmas, n=0.2, res=100, ax=None):\n",
    "    \"\"\"\n",
    "    Plot the coverage of a population of voxels\n",
    "\n",
    "    Parameters\n",
    "    ----------\n",
    "    xs : array (n_voxels)\n",
    "        centers\n",
    "    ys : array (n_voxels)\n",
    "        centers\n",
    "    sigmas : array (n_voxels)\n",
    "        std pRfs\n",
    "    n : float\n",
    "        power exponent\n",
    "    res : int\n",
    "        size of one of the sides\n",
    "    ax : axis\n",
    "\n",
    "    Returns\n",
    "    -------\n",
    "    ax : axis\n",
    "    \"\"\"\n",
    "    x0 = y0 = res // 2\n",
    "    xs = np.asarray(xs) + x0\n",
    "    ys = np.asarray(ys) + y0\n",
    "\n",
    "    f = np.zeros((res, res))\n",
    "    for x, y, s in zip(xs, ys, sigmas):\n",
    "        f += filledprf(x, y, s, n=n, res=res)\n",
    "    f /= len(xs)\n",
    "\n",
    "    if ax is None:\n",
    "        fig, ax = plt.subplots(1, 1)\n",
    "    ax.imshow(f, aspect='equal', cmap='gray')\n",
    "    ax.axhline(y0)\n",
    "    ax.axvline(x0)\n",
    "    return ax"
   ]
  },
  {
   "cell_type": "code",
   "execution_count": 40,
   "metadata": {
    "ExecuteTime": {
     "end_time": "2018-04-10T14:25:03.552022Z",
     "start_time": "2018-04-10T14:25:03.538351Z"
    }
   },
   "outputs": [],
   "source": [
    "def prfdensity(xs, ys, sigmas, n=0.2, res=100, ax=None):\n",
    "    \"\"\"\n",
    "    Plot the coverage of a population of voxels\n",
    "\n",
    "    Parameters\n",
    "    ----------\n",
    "    xs : array (n_voxels)\n",
    "        centers\n",
    "    ys : array (n_voxels)\n",
    "        centers\n",
    "    sigmas : array (n_voxels)\n",
    "        std pRfs\n",
    "    n : float\n",
    "        power exponent\n",
    "    res : int\n",
    "        size of one of the sides\n",
    "    ax : axis\n",
    "\n",
    "    Returns\n",
    "    -------\n",
    "    ax : axis\n",
    "    \"\"\"\n",
    "    x0 = y0 = res // 2\n",
    "    xs = np.asarray(xs) + x0\n",
    "    ys = np.asarray(ys) + y0\n",
    "\n",
    "    f = np.zeros((res, res))\n",
    "    for x, y, s in zip(xs, ys, sigmas):\n",
    "        f += filledprf(x, y, s, n=n, res=res)\n",
    "    f /= len(xs)\n",
    "\n",
    "    return f"
   ]
  },
  {
   "cell_type": "code",
   "execution_count": 41,
   "metadata": {
    "ExecuteTime": {
     "end_time": "2018-04-10T13:21:59.599298Z",
     "start_time": "2018-04-10T13:21:59.589622Z"
    }
   },
   "outputs": [],
   "source": [
    "def plot_overlap_population(params, ax=None):\n",
    "    if ax is None:\n",
    "        fig, ax = plt.subplots(1, 1)\n",
    "    density_a = prfdensity(*params['a'])\n",
    "    density_b = prfdensity(*params['b'])\n",
    "    d = np.dstack((density_b, density_a, np.zeros((100, 100))))\n",
    "    ax.imshow(d)\n",
    "    return ax"
   ]
  },
  {
   "cell_type": "code",
   "execution_count": 42,
   "metadata": {
    "ExecuteTime": {
     "end_time": "2018-04-10T13:25:24.946384Z",
     "start_time": "2018-04-10T13:25:24.941882Z"
    }
   },
   "outputs": [],
   "source": [
    "from matplotlib.patches import Ellipse"
   ]
  },
  {
   "cell_type": "code",
   "execution_count": 43,
   "metadata": {
    "ExecuteTime": {
     "end_time": "2018-04-10T13:32:10.965671Z",
     "start_time": "2018-04-10T13:32:10.956347Z"
    }
   },
   "outputs": [],
   "source": [
    "def draw_stimuli(ax, scale=4., res=100):\n",
    "    x0 = y0 = res // 2\n",
    "    w = 4 * scale\n",
    "    h = 4 * scale\n",
    "    xpos = np.array((5, -5, -5, 5)) * scale + x0\n",
    "    ypos = np.array((5, 5, -5, -5)) * scale + y0\n",
    "    els = [\n",
    "        Ellipse([x, y], width=w, height=h, facecolor='white', alpha=0.8) for x, y in zip(xpos, ypos)]\n",
    "    for e in els:\n",
    "        e.set_clip_box(ax.bbox)\n",
    "        ax.add_artist(e)"
   ]
  },
  {
   "cell_type": "code",
   "execution_count": 44,
   "metadata": {
    "ExecuteTime": {
     "end_time": "2018-04-10T13:32:11.148472Z",
     "start_time": "2018-04-10T13:32:11.143637Z"
    }
   },
   "outputs": [],
   "source": [
    "def remove_ticks(ax):\n",
    "    ax.set_xticklabels([])\n",
    "    ax.set_yticklabels([])"
   ]
  },
  {
   "cell_type": "code",
   "execution_count": 45,
   "metadata": {
    "ExecuteTime": {
     "end_time": "2018-04-10T14:29:00.135957Z",
     "start_time": "2018-04-10T14:29:00.126785Z"
    }
   },
   "outputs": [],
   "source": [
    "def add_scale(ax, scale=4., res=100):\n",
    "    y = res - scale*1\n",
    "    x = res - scale*3\n",
    "    ax.plot([x, x + scale], [y, y], 'white', solid_capstyle='projecting')\n",
    "    # add text\n",
    "    ax.text(x-1, y-2, '1$^\\circ$ ', color='white', size=12, weight='heavy')"
   ]
  },
  {
   "cell_type": "code",
   "execution_count": 46,
   "metadata": {
    "ExecuteTime": {
     "end_time": "2018-04-10T14:29:01.007602Z",
     "start_time": "2018-04-10T14:29:00.785799Z"
    }
   },
   "outputs": [
    {
     "data": {
      "image/png": "[encoded data removed]",
      "text/plain": [
       "<matplotlib.figure.Figure at 0x2b74eb5cce10>"
      ]
     },
     "metadata": {},
     "output_type": "display_data"
    }
   ],
   "source": [
    "params, _ = get_params_pop(*roi_values['IOG'], n_voxels=10, ratio_voxels=9)\n",
    "fig, ax = plt.subplots(1, 1, figsize=(3, 3))\n",
    "ax = plot_overlap_population(params, ax=ax)\n",
    "draw_stimuli(ax)\n",
    "remove_ticks(ax)\n",
    "add_scale(ax)"
   ]
  },
  {
   "cell_type": "code",
   "execution_count": 47,
   "metadata": {
    "ExecuteTime": {
     "end_time": "2018-04-10T13:36:33.531444Z",
     "start_time": "2018-04-10T13:36:33.525259Z"
    }
   },
   "outputs": [
    {
     "data": {
      "text/plain": [
       "(3, 9)"
      ]
     },
     "execution_count": 47,
     "metadata": {},
     "output_type": "execute_result"
    }
   ],
   "source": [
    "params['a'].shape"
   ]
  },
  {
   "cell_type": "markdown",
   "metadata": {},
   "source": [
    "Save figures showing example building up of coverage -- basically what we're modeling"
   ]
  },
  {
   "cell_type": "code",
   "execution_count": null,
   "metadata": {
    "ExecuteTime": {
     "end_time": "2018-04-10T13:53:47.318219Z",
     "start_time": "2018-04-10T13:53:47.306815Z"
    }
   },
   "outputs": [],
   "source": [
    "import os.path as op\n",
    "import os"
   ]
  },
  {
   "cell_type": "code",
   "execution_count": null,
   "metadata": {
    "ExecuteTime": {
     "end_time": "2018-04-10T13:54:07.541962Z",
     "start_time": "2018-04-10T13:54:07.521277Z"
    }
   },
   "outputs": [],
   "source": [
    "img_dir = 'img'\n",
    "if not op.exists(img_dir):\n",
    "    os.makedirs(img_dir)"
   ]
  },
  {
   "cell_type": "code",
   "execution_count": null,
   "metadata": {
    "ExecuteTime": {
     "end_time": "2018-04-10T13:54:09.339045Z",
     "start_time": "2018-04-10T13:54:09.325532Z"
    }
   },
   "outputs": [],
   "source": [
    "rois"
   ]
  },
  {
   "cell_type": "code",
   "execution_count": null,
   "metadata": {
    "ExecuteTime": {
     "end_time": "2018-04-10T14:29:27.992139Z",
     "start_time": "2018-04-10T14:29:09.278466Z"
    }
   },
   "outputs": [],
   "source": [
    "# slowly build the final ratio\n",
    "nratios = len(ratios)\n",
    "rng = np.random.RandomState(42)\n",
    "for roi in rois:\n",
    "    params, _ = get_params_pop(*roi_values[roi], n_voxels=10, ratio_voxels=9, rng=rng)\n",
    "    for ratio in ratios:\n",
    "        params_ = params.copy()\n",
    "        params_['a'] = params_['a'][:, :ratio]\n",
    "        fig, ax = plt.subplots(1, 1, figsize=(3, 3))\n",
    "        ax = plot_overlap_population(params_, ax=ax)\n",
    "        draw_stimuli(ax)\n",
    "        remove_ticks(ax)\n",
    "        add_scale(ax)\n",
    "        fig.savefig(op.join(img_dir, '{0}_ratio{1:d}.png'.format(roi.lower(), ratio)), dpi=300, bbox_inches='tight')\n",
    "        plt.close()"
   ]
  }
 ],
 "metadata": {
  "anaconda-cloud": {},
  "kernelspec": {
   "display_name": "Python 2",
   "language": "python",
   "name": "python2"
  },
  "language_info": {
   "codemirror_mode": {
    "name": "ipython",
    "version": 2
   },
   "file_extension": ".py",
   "mimetype": "text/x-python",
   "name": "python",
   "nbconvert_exporter": "python",
   "pygments_lexer": "ipython2",
   "version": "2.7.14"
  },
  "toc": {
   "colors": {
    "hover_highlight": "#DAA520",
    "navigate_num": "#000000",
    "navigate_text": "#333333",
    "running_highlight": "#FF0000",
    "selected_highlight": "#FFD700",
    "sidebar_border": "#EEEEEE",
    "wrapper_background": "#FFFFFF"
   },
   "moveMenuLeft": true,
   "nav_menu": {
    "height": "99px",
    "width": "252px"
   },
   "navigate_menu": true,
   "number_sections": true,
   "sideBar": true,
   "threshold": 4,
   "toc_cell": false,
   "toc_section_display": "block",
   "toc_window_display": false,
   "widenNotebook": false
  }
 },
 "nbformat": 4,
 "nbformat_minor": 2
}
